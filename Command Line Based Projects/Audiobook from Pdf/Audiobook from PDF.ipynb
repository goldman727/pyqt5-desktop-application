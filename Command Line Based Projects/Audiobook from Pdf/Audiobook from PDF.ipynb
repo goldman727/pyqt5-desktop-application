{
 "cells": [
  {
   "cell_type": "markdown",
   "metadata": {},
   "source": [
    "https://www.codegrepper.com/code-examples/delphi/python+play+wav+file"
   ]
  },
  {
   "cell_type": "code",
   "execution_count": 23,
   "metadata": {},
   "outputs": [],
   "source": [
    "import PyPDF2 as reader\n",
    "from gtts import gTTS\n",
    "import os\n",
    "from playsound import playsound\n",
    "import threading"
   ]
  },
  {
   "cell_type": "markdown",
   "metadata": {},
   "source": [
    "# Scripting"
   ]
  },
  {
   "cell_type": "code",
   "execution_count": null,
   "metadata": {
    "scrolled": true
   },
   "outputs": [],
   "source": [
    "filename = 'a.pdf'\n",
    "try:\n",
    "    os.mkdir(filename.split('.')[0])\n",
    "except:\n",
    "    pass\n",
    "with open(filename, 'rb') as file:\n",
    "    pdf = reader.PdfFileReader(file)\n",
    "    print(pdf.numPages)\n",
    "    os.chdir(filename.split('.')[0])\n",
    "    for num in range(pdf.numPages):\n",
    "        page = pdf.getPage(num)\n",
    "        text = page.extractText()\n",
    "        tts = gTTS(text)\n",
    "        tts.get_urls()\n",
    "        savefile = f'{str(num)}.mp3'\n",
    "        tts.save(savefile)\n",
    "        playsound(savefile)"
   ]
  },
  {
   "cell_type": "markdown",
   "metadata": {},
   "source": [
    "# Multithreading"
   ]
  },
  {
   "cell_type": "code",
   "execution_count": 13,
   "metadata": {},
   "outputs": [],
   "source": [
    "def create_file():\n",
    "    filename = input(\"Enter the filename (with path)\")\n",
    "    try:\n",
    "        dirname = filename.split('.')[0]\n",
    "        os.mkdir(dirname)\n",
    "    except:\n",
    "        pass\n",
    "    file = open(filename, 'rb')\n",
    "    pdf = reader.PdfFileReader(file)\n",
    "    print(f\"Total pages in pdf: {pdf.numPages}\")\n",
    "    totalpages = pdf.numPages\n",
    "    return totalpages, dirname,pdf,file"
   ]
  },
  {
   "cell_type": "code",
   "execution_count": 18,
   "metadata": {},
   "outputs": [],
   "source": [
    "def create_audio(totalpages,pdf,only_create_first_file=0):\n",
    "    \n",
    "    if not(only_create_first_file):\n",
    "        start = 1\n",
    "    else:\n",
    "        start=0\n",
    "        print(\"Contacting Google...\\nReading...\")\n",
    "    for num in range(start,totalpages):\n",
    "        page = pdf.getPage(num)\n",
    "        text = page.extractText()\n",
    "        tts = gTTS(text)\n",
    "#         print(tts.get_urls())\n",
    "        savefile = f'{str(num)}.mp3'\n",
    "        tts.save(savefile)\n",
    "        print(f'Audio file created for page: {num+1}')\n",
    "        if only_create_first_file:\n",
    "            break"
   ]
  },
  {
   "cell_type": "code",
   "execution_count": 19,
   "metadata": {},
   "outputs": [],
   "source": [
    "def play_sound(dirname, all_created_audio):\n",
    "    # argument need to be passed = totalpages\n",
    "    to_be_played = 0\n",
    "    retry = 0\n",
    "    exception_occured = 0\n",
    "    while retry<3: \n",
    "        for audio in range(to_be_played ,all_created_audio):\n",
    "            filename = f'{str(audio)}.mp3'\n",
    "            print(f'Playing audio for page: {audio+1}')\n",
    "            audiofile = os.path.join(os.getcwd(), dirname, filename)\n",
    "            try:\n",
    "                playsound(audiofile)\n",
    "                retry = 0\n",
    "                to_be_played = audio\n",
    "            except Exception as E:\n",
    "                print(E)\n",
    "                exception_occured = 1\n",
    "                retry+=1\n",
    "                retry_log = f\"We have encountered some issues. Retrying : {retry}\"\n",
    "                print(retry_log)\n",
    "                playsound(retry_log)\n",
    "                break\n",
    "        #print(f'Debug Info:\\nLast file to be played:{to_be_played}\\t All Created Audio:{all_created_audio-1}\\t IsException:{exception_occured}')       \n",
    "        if (to_be_played == (all_created_audio-1) and not(exception_occured)) or (retry==3):\n",
    "            break\n",
    "        exception_occured = 0"
   ]
  },
  {
   "cell_type": "code",
   "execution_count": 20,
   "metadata": {},
   "outputs": [],
   "source": [
    "def main():\n",
    "    totalpages, dirname, pdf,file = create_file()\n",
    "    create_audio(totalpages,pdf,only_create_first_file=1)\n",
    "    create_audio_thread = threading.Thread(target=create_audio, args=(totalpages,pdf))\n",
    "    play_sound_thread = threading.Thread(target=play_sound, args=(dirname, totalpages))\n",
    "    create_audio_thread.start()\n",
    "    play_sound_thread.start()\n",
    "    create_audio_thread.join()\n",
    "    play_sound_thread.join()\n",
    "    file.close()"
   ]
  },
  {
   "cell_type": "code",
   "execution_count": 21,
   "metadata": {},
   "outputs": [
    {
     "name": "stdout",
     "output_type": "stream",
     "text": [
      "Total pages in pdf: 2\n",
      "Contacting Google...\n",
      "Reading...\n",
      "Audio file created for page: 1\n",
      "Playing audio for page: 1\n",
      "Audio file created for page: 2\n",
      "Playing audio for page: 2\n"
     ]
    }
   ],
   "source": [
    "main()"
   ]
  },
  {
   "cell_type": "code",
   "execution_count": null,
   "metadata": {},
   "outputs": [],
   "source": []
  }
 ],
 "metadata": {
  "kernelspec": {
   "display_name": "Python 3",
   "language": "python",
   "name": "python3"
  },
  "language_info": {
   "codemirror_mode": {
    "name": "ipython",
    "version": 3
   },
   "file_extension": ".py",
   "mimetype": "text/x-python",
   "name": "python",
   "nbconvert_exporter": "python",
   "pygments_lexer": "ipython3",
   "version": "3.8.3"
  }
 },
 "nbformat": 4,
 "nbformat_minor": 4
}
