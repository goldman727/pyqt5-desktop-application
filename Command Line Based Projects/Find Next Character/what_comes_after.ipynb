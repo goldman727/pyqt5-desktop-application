{
 "cells": [
  {
   "cell_type": "code",
   "execution_count": 1,
   "metadata": {},
   "outputs": [],
   "source": [
    "def time():\n",
    "    for i in range(19999999):\n",
    "        pass"
   ]
  },
  {
   "cell_type": "code",
   "execution_count": 2,
   "metadata": {},
   "outputs": [],
   "source": [
    "def plusOne(char):\n",
    "    y=ord(char)\n",
    "    y=y+1\n",
    "    print(chr(y))"
   ]
  },
  {
   "cell_type": "code",
   "execution_count": 3,
   "metadata": {},
   "outputs": [],
   "source": [
    "def exe():\n",
    "    print(\"Hi!!! Hello how are you?\")\n",
    "    time()\n",
    "    print(\"So need some help, tell me what\")\n",
    "    while(True):\n",
    "        try:\n",
    "            x=input()\n",
    "            x=x[0]\n",
    "        except IndexError:\n",
    "            print(\"Oops! please enter something to proceed\")\n",
    "            continue\n",
    "        else:\n",
    "            break\n",
    "    print(\"taking only first element\")\n",
    "    plusOne(x)\n",
    "    time()\n",
    "    print(\"Thanks for asking, bye\")\n",
    "    time()\n",
    "    print(\"Press enter to exit\")\n",
    "    x=input()\n",
    "    if x=='\\n':\n",
    "        exit(0)"
   ]
  },
  {
   "cell_type": "code",
   "execution_count": 5,
   "metadata": {},
   "outputs": [
    {
     "name": "stdout",
     "output_type": "stream",
     "text": [
      "Hi!!! Hello how are you?\n",
      "So need some help, tell me what\n",
      "e\n",
      "taking only first element\n",
      "f\n",
      "Thanks for asking, bye\n",
      "Press enter to exit\n",
      "\n"
     ]
    }
   ],
   "source": [
    "exe()"
   ]
  },
  {
   "cell_type": "code",
   "execution_count": null,
   "metadata": {},
   "outputs": [],
   "source": []
  }
 ],
 "metadata": {
  "kernelspec": {
   "display_name": "Python 3",
   "language": "python",
   "name": "python3"
  },
  "language_info": {
   "codemirror_mode": {
    "name": "ipython",
    "version": 3
   },
   "file_extension": ".py",
   "mimetype": "text/x-python",
   "name": "python",
   "nbconvert_exporter": "python",
   "pygments_lexer": "ipython3",
   "version": "3.7.1"
  }
 },
 "nbformat": 4,
 "nbformat_minor": 2
}
