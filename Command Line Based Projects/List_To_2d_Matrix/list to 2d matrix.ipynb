{
 "cells": [
  {
   "cell_type": "code",
   "execution_count": 7,
   "metadata": {},
   "outputs": [
    {
     "name": "stdout",
     "output_type": "stream",
     "text": [
      "Give the matrix is row major form seperated by space: 1 2 3 4\n",
      "Give the number of rows: 2\n",
      "Give the number of columns: 2\n",
      "[[1, 2], [3, 4]]\n"
     ]
    }
   ],
   "source": [
    "#Creating matrix from list of numbers\n",
    "\n",
    "given_mat = list(map(int, input('Give the matrix is row major form seperated by space: ').split()))\n",
    "while True:\n",
    "\n",
    "    rows = int(input(\"Give the number of rows: \"))\n",
    "    column = int(input(\"Give the number of columns: \"))\n",
    "\n",
    "    if (rows*column) == len(given_mat):\n",
    "        break\n",
    "    else:\n",
    "        print('You made a error, cannot fit.\\nAdjust row or columns to fit {} numbers\\n\\n'.format(len(given_mat)))\n",
    "        continue\n",
    "        \n",
    "\n",
    "temp_mat = []\n",
    "new_mat = []\n",
    "\n",
    "i = 0\n",
    "while i < (rows*column):\n",
    "    \n",
    "    if len(temp_mat) == column:\n",
    "        new_mat.append(temp_mat)\n",
    "        temp_mat = []\n",
    "    else:\n",
    "        temp_mat.append(given_mat[i])\n",
    "        i += 1\n",
    "        \n",
    "        \n",
    "else:\n",
    "    new_mat.append(temp_mat)\n",
    "    print(new_mat)"
   ]
  },
  {
   "cell_type": "code",
   "execution_count": null,
   "metadata": {},
   "outputs": [],
   "source": []
  }
 ],
 "metadata": {
  "kernelspec": {
   "display_name": "Python 3",
   "language": "python",
   "name": "python3"
  },
  "language_info": {
   "codemirror_mode": {
    "name": "ipython",
    "version": 3
   },
   "file_extension": ".py",
   "mimetype": "text/x-python",
   "name": "python",
   "nbconvert_exporter": "python",
   "pygments_lexer": "ipython3",
   "version": "3.7.1"
  }
 },
 "nbformat": 4,
 "nbformat_minor": 2
}
