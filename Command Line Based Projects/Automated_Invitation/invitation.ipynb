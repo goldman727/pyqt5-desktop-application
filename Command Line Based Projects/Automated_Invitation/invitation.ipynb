{
 "cells": [
  {
   "cell_type": "code",
   "execution_count": 1,
   "metadata": {},
   "outputs": [],
   "source": [
    "from docx import Document\n",
    "from docx.shared import Inches\n",
    "import pandas as pd\n",
    "import datetime\n",
    "import sys\n",
    "import os\n",
    "import comtypes.client"
   ]
  },
  {
   "cell_type": "code",
   "execution_count": 2,
   "metadata": {},
   "outputs": [],
   "source": [
    "# database of all person to whome we have to sent the email\n",
    "data = pd.read_csv('invitation_data.csv')"
   ]
  },
  {
   "cell_type": "markdown",
   "metadata": {},
   "source": [
    "**FORMAT OF REPLACING DATA**<br>\n",
    "replaced_word = [salutation, firstname,secondname,Designation, department, institution,Date,sir_madam,Content]"
   ]
  },
  {
   "cell_type": "code",
   "execution_count": 3,
   "metadata": {},
   "outputs": [],
   "source": [
    "def sent_time():\n",
    "    '''\n",
    "    This function will give the time at which mail is sent\n",
    "    '''\n",
    "    x = datetime.datetime.now()\n",
    "    date = x.strftime(\"%B %d,%Y\")\n",
    "    return date"
   ]
  },
  {
   "cell_type": "code",
   "execution_count": 4,
   "metadata": {},
   "outputs": [],
   "source": [
    "def content():\n",
    "    ''''\n",
    "    This is content function in which we will give the content of the invitation\n",
    "    '''\n",
    "    content = 'Lorem ipsum dolor sit amet, ferri consul ius ut. Vis invidunt salutandi qualisque in, id sed nominati accommodare. Tale errem adipiscing pro te. Has amet iriure gloriatur ea. Probatus intellegebat eu qui.'\n",
    "    return content"
   ]
  },
  {
   "cell_type": "code",
   "execution_count": 5,
   "metadata": {},
   "outputs": [],
   "source": [
    "def data_extractor(ID, database):\n",
    "    '''\n",
    "    It will extract data from database that will replace that values from the invitation template\n",
    "    '''\n",
    "    word_to_be_replaced = ['Salutation', 'first_name','second_name','designation', 'department', 'institution']\n",
    "    replaced_word = []\n",
    "    for i in word_to_be_replaced:\n",
    "        replaced_word.append(database.loc[database.ID == ID, i][ID-1])\n",
    "    if (database.loc[database.ID == ID, 'gender'][ID-1]) == 'Male':\n",
    "        replaced_word.insert(7, 'Sir')\n",
    "    else:\n",
    "        replaced_word.insert(7, 'Madam')\n",
    "    return replaced_word"
   ]
  },
  {
   "cell_type": "code",
   "execution_count": 6,
   "metadata": {},
   "outputs": [],
   "source": [
    "def create_invitation(replaced_word):\n",
    "    '''\n",
    "    This will modify invitation template and save it in docx and then convert it to pdf and then delete the docx file.\n",
    "    '''\n",
    "    doc = Document('invitation_template.docx') \n",
    "    word_to_be_replaced = ['Salutation', 'firstname','secondname','Designation', 'department', 'institution','Date','sir/madam','Content']\n",
    "    bag_of_word = list(zip(word_to_be_replaced, replaced_word))\n",
    "    for old_word,new_word in bag_of_word:\n",
    "        for p in doc.paragraphs:\n",
    "            inline = p.runs\n",
    "            for i in range(len(inline)):\n",
    "                text = inline[i].text\n",
    "                if old_word in text:\n",
    "                    text=text.replace(old_word,new_word)\n",
    "                    inline[i].text = text\n",
    "    path = os.getcwd()\n",
    "    abs_path = path+'\\\\Invitation_Sent\\\\'\n",
    "    try:\n",
    "        os.makedirs(abs_path)\n",
    "    except:\n",
    "        pass\n",
    "    finally:\n",
    "        doc.save(abs_path+bag_of_word[0][1]+'_'+bag_of_word[1][1]+'_'+bag_of_word[2][1]+'_invitation.docx')\n",
    "        \n",
    "    wdFormatPDF = 17\n",
    "    in_file = os.path.abspath(abs_path+bag_of_word[0][1]+'_'+bag_of_word[1][1]+'_'+bag_of_word[2][1]+'_invitation.docx')\n",
    "    out_file = os.path.abspath(abs_path+bag_of_word[0][1]+'_'+bag_of_word[1][1]+'_'+bag_of_word[2][1]+'_invitation.pdf')\n",
    "    word = comtypes.client.CreateObject('Word.Application')\n",
    "    doc = word.Documents.Open(in_file)\n",
    "    doc.SaveAs(out_file, FileFormat=wdFormatPDF)\n",
    "    doc.Close()\n",
    "    word.Quit()\n",
    "    os.remove(abs_path+bag_of_word[0][1]+'_'+bag_of_word[1][1]+'_'+bag_of_word[2][1]+'_invitation.docx')"
   ]
  },
  {
   "cell_type": "code",
   "execution_count": 7,
   "metadata": {},
   "outputs": [],
   "source": [
    "def send_invitation(replaced_word):\n",
    "    '''\n",
    "    This function will send the email to all the valid email ids given in the database.\n",
    "    '''\n",
    "    # invitation file name --> replaced_word[0]+'_'replaced_word[1]+'_'+replaced_word[2]+'_invitation.pdf'\n",
    "    filename = (replaced_word[0]+'_'+replaced_word[1]+'_'+replaced_word[2]+'_invitation.pdf')\n",
    "    print(filename+'-----> FILE SEND')\n",
    "    #code to send invitation"
   ]
  },
  {
   "cell_type": "code",
   "execution_count": 8,
   "metadata": {},
   "outputs": [],
   "source": [
    "def __main__():    \n",
    "    '''\n",
    "    This is the driving function\n",
    "    '''\n",
    "    for id_ in data['ID']:\n",
    "        if (data.loc[data['ID'] == id_]['invitation_status'] != 'sent')[id_-1]:\n",
    "            date_= sent_time()\n",
    "            content_ = content()\n",
    "            replaced_word = data_extractor(id_, data)\n",
    "            replaced_word.insert(6, date_)\n",
    "            replaced_word.insert(8, content_)\n",
    "            create_invitation(replaced_word)\n",
    "            send_invitation(replaced_word) #<<======================================================================\n",
    "            # email sent then update database\n",
    "            data.loc[data.ID == id_, 'invitation_status'] = 'sent'\n",
    "            data.to_csv('invitation_data.csv', index=False)"
   ]
  },
  {
   "cell_type": "code",
   "execution_count": 9,
   "metadata": {},
   "outputs": [],
   "source": [
    "__main__()"
   ]
  }
 ],
 "metadata": {
  "kernelspec": {
   "display_name": "Python 3",
   "language": "python",
   "name": "python3"
  },
  "language_info": {
   "codemirror_mode": {
    "name": "ipython",
    "version": 3
   },
   "file_extension": ".py",
   "mimetype": "text/x-python",
   "name": "python",
   "nbconvert_exporter": "python",
   "pygments_lexer": "ipython3",
   "version": "3.7.1"
  }
 },
 "nbformat": 4,
 "nbformat_minor": 2
}
