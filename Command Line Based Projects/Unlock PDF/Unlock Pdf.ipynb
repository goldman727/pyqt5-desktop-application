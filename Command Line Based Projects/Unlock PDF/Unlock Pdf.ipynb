{
 "cells": [
  {
   "cell_type": "markdown",
   "metadata": {},
   "source": [
    "import pikepdf\n",
    "\n",
    "pdf = pikepdf.open('Antenna Theory Analysis and Design Cropped fixed Constantine A Balanis 2nd Ed John Will.pdf')\n",
    "pdf.save('EditingEnabled.pdf')"
   ]
  },
  {
   "cell_type": "code",
   "execution_count": 1,
   "metadata": {},
   "outputs": [],
   "source": [
    "import pikepdf\n",
    "\n",
    "pdf = pikepdf.open(input(\"Enter the filename/location\"))\n",
    "pdf.save('EditingEnabled.pdf')"
   ]
  }
 ],
 "metadata": {
  "kernelspec": {
   "display_name": "Python 3",
   "language": "python",
   "name": "python3"
  },
  "language_info": {
   "codemirror_mode": {
    "name": "ipython",
    "version": 3
   },
   "file_extension": ".py",
   "mimetype": "text/x-python",
   "name": "python",
   "nbconvert_exporter": "python",
   "pygments_lexer": "ipython3",
   "version": "3.7.6"
  }
 },
 "nbformat": 4,
 "nbformat_minor": 4
}
