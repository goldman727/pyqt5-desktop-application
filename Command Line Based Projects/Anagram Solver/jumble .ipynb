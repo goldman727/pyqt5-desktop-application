{
 "cells": [
  {
   "cell_type": "markdown",
   "metadata": {},
   "source": [
    "# Getting dictionary for validation"
   ]
  },
  {
   "cell_type": "code",
   "execution_count": 1,
   "metadata": {},
   "outputs": [],
   "source": [
    "import pickle"
   ]
  },
  {
   "cell_type": "markdown",
   "metadata": {},
   "source": [
    "#this is not required because we have saved our data to pickle file\n",
    "with open('dictionary mega.txt', 'r', encoding='utf-8') as file:\n",
    "    data = (file.read()).lower().split(',')\n",
    "type(data)"
   ]
  },
  {
   "cell_type": "markdown",
   "metadata": {},
   "source": [
    "#saving variable 'data'  which have dictionary for future use even if we dont have our dictionary text file\n",
    "#using wb to write binary (non-text  file)\n",
    "with open('data.pickle', 'wb') as pfile:\n",
    "    pickle.dump(data, pfile)"
   ]
  },
  {
   "cell_type": "code",
   "execution_count": 2,
   "metadata": {},
   "outputs": [],
   "source": [
    "#loading variable 'data' which have dictionary  data\n",
    "with open('data.pickle', 'rb') as rpfile:\n",
    "    data = pickle.load(rpfile)"
   ]
  },
  {
   "cell_type": "markdown",
   "metadata": {},
   "source": [
    "# Algorithm to find the perfect string from jumbled one"
   ]
  },
  {
   "cell_type": "markdown",
   "metadata": {},
   "source": [
    "jumbled_string = input(\"Enter the jumbled string: \")"
   ]
  },
  {
   "cell_type": "markdown",
   "metadata": {},
   "source": [
    "char_set = set(jumbled_string)"
   ]
  },
  {
   "cell_type": "markdown",
   "metadata": {},
   "source": [
    "def resolver(data):\n",
    "    jumbled_string = input(\"Enter the jumbled string: \")\n",
    "    char_set = set(jumbled_string)\n",
    "    found = 0\n",
    "    possible_words = []  #set of all possible words\n",
    "    # iterating over every wors in dictionary that is saved in variable 'data'.\n",
    "    for word in data:    \n",
    "        # 'flag' is used to identify whether word is found or not. Default is word not found.\n",
    "        flag = 0\n",
    "        # iterating over all the unique characters in jumbled string\n",
    "        for char in char_set:\n",
    "            # checking whether the character in jumbled string is present in the word of dictioary or not. If yes then the occurance of that particular character in jumbled string matched with that of charaters in word of dictionary \n",
    "            if (char in word) and (word.count(char) == jumbled_string.count(char)):\n",
    "                # if found then put flag to 1\n",
    "                flag = 1\n",
    "            else:\n",
    "                # otherwise stop checking that particular word and move to another one\n",
    "                flag = 0\n",
    "                break\n",
    "        if flag:\n",
    "            found = 1\n",
    "            # if word is is founded with given criteria then check whether the length of word in dictionary is same as that of the length of jumbled string.\n",
    "            if len(word) == len(jumbled_string):\n",
    "                found = 1\n",
    "                break   #if you want to show only one word then comment the statement just below it\n",
    "                #possible_words.append(word)\n",
    "            else:\n",
    "                found = 0\n",
    "    if found:\n",
    "        print(\"Rearranged word is: {}\".format(word))\n",
    "    else:\n",
    "        print('Oops!! No word found')    "
   ]
  },
  {
   "cell_type": "markdown",
   "metadata": {},
   "source": [
    "resolver(data)"
   ]
  },
  {
   "cell_type": "code",
   "execution_count": 43,
   "metadata": {},
   "outputs": [],
   "source": [
    "def resolver(data):\n",
    "    jumbled_string = input(\"Enter the jumbled string: \")\n",
    "    char_set = set(jumbled_string)\n",
    "    found = 0\n",
    "    possible_words = []  #set of all possible words\n",
    "    # iterating over every wors in dictionary that is saved in variable 'data'.\n",
    "    for word in data:    \n",
    "        # 'flag' is used to identify whether word is found or not. Default is word not found.\n",
    "        flag = 0\n",
    "        # iterating over all the unique characters in jumbled string\n",
    "        for char in char_set:\n",
    "            # checking whether the character in jumbled string is present in the word of dictioary or not. If yes then the occurance of that particular character in jumbled string matched with that of charaters in word of dictionary \n",
    "            if (char in word) and (word.count(char) == jumbled_string.count(char)):\n",
    "                # if found then put flag to 1\n",
    "                flag = 1\n",
    "            else:\n",
    "                # otherwise stop checking that particular word and move to another one\n",
    "                flag = 0\n",
    "                break\n",
    "        if flag:\n",
    "            found = 1\n",
    "            # if word is is founded with given criteria then check whether the length of word in dictionary is same as that of the length of jumbled string.\n",
    "            if len(word) == len(jumbled_string):\n",
    "                found = 1\n",
    "                #break   #if you want to show only one word then comment the statement just below it\n",
    "                possible_words.append(word)\n",
    "            else:\n",
    "                found = 0\n",
    "\n",
    "    if any(possible_words):\n",
    "        i = 1\n",
    "        for word in possible_words:\n",
    "            if i:\n",
    "                print(\"Rearranged word is: {}\".format(word))\n",
    "                i = 0\n",
    "            else:\n",
    "                print('{}{}'.format(' '*len('Rearranged word is: '), word))\n",
    "    else:\n",
    "        print('Oops!! No word found')    "
   ]
  },
  {
   "cell_type": "code",
   "execution_count": 50,
   "metadata": {},
   "outputs": [
    {
     "name": "stdout",
     "output_type": "stream",
     "text": [
      "Enter the jumbled string: oduor\n",
      "Rearranged word is: odour\n",
      "                    douro\n"
     ]
    }
   ],
   "source": [
    "resolver(data)"
   ]
  },
  {
   "cell_type": "code",
   "execution_count": null,
   "metadata": {},
   "outputs": [],
   "source": []
  }
 ],
 "metadata": {
  "kernelspec": {
   "display_name": "Python 3",
   "language": "python",
   "name": "python3"
  },
  "language_info": {
   "codemirror_mode": {
    "name": "ipython",
    "version": 3
   },
   "file_extension": ".py",
   "mimetype": "text/x-python",
   "name": "python",
   "nbconvert_exporter": "python",
   "pygments_lexer": "ipython3",
   "version": "3.7.1"
  }
 },
 "nbformat": 4,
 "nbformat_minor": 2
}
